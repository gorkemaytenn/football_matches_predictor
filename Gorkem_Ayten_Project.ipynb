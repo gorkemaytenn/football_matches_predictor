{
 "cells": [
  {
   "cell_type": "markdown",
   "id": "55166f2b",
   "metadata": {},
   "source": [
    "# Predict Football Match Result"
   ]
  },
  {
   "cell_type": "code",
   "execution_count": 1,
   "id": "9825cca4",
   "metadata": {},
   "outputs": [],
   "source": [
    "import sqlite3\n",
    "import pandas as pd\n",
    "\n",
    "from sklearn.model_selection import train_test_split\n",
    "from sklearn.ensemble import RandomForestClassifier\n",
    "from sklearn.ensemble import GradientBoostingClassifier\n",
    "from sklearn.neighbors import KNeighborsClassifier\n",
    "from sklearn.metrics import precision_score, accuracy_score"
   ]
  },
  {
   "cell_type": "code",
   "execution_count": 2,
   "id": "32bc02d9",
   "metadata": {},
   "outputs": [],
   "source": [
    "# Database connection\n",
    "database = sqlite3.connect(\"database.sqlite\")"
   ]
  },
  {
   "cell_type": "code",
   "execution_count": 3,
   "id": "d361ad05",
   "metadata": {},
   "outputs": [],
   "source": [
    "# I chose English Premiere League\n",
    "matches = pd.read_sql_query(\"SELECT season, date, home_team_api_id,away_team_api_id,home_team_goal,away_team_goal FROM Match WHERE league_id is 1729\", database)"
   ]
  },
  {
   "cell_type": "code",
   "execution_count": 4,
   "id": "c41651fe",
   "metadata": {},
   "outputs": [
    {
     "data": {
      "text/html": [
       "<div>\n",
       "<style scoped>\n",
       "    .dataframe tbody tr th:only-of-type {\n",
       "        vertical-align: middle;\n",
       "    }\n",
       "\n",
       "    .dataframe tbody tr th {\n",
       "        vertical-align: top;\n",
       "    }\n",
       "\n",
       "    .dataframe thead th {\n",
       "        text-align: right;\n",
       "    }\n",
       "</style>\n",
       "<table border=\"1\" class=\"dataframe\">\n",
       "  <thead>\n",
       "    <tr style=\"text-align: right;\">\n",
       "      <th></th>\n",
       "      <th>season</th>\n",
       "      <th>date</th>\n",
       "      <th>home_team_api_id</th>\n",
       "      <th>away_team_api_id</th>\n",
       "      <th>home_team_goal</th>\n",
       "      <th>away_team_goal</th>\n",
       "    </tr>\n",
       "  </thead>\n",
       "  <tbody>\n",
       "    <tr>\n",
       "      <th>0</th>\n",
       "      <td>2008/2009</td>\n",
       "      <td>2008-08-17 00:00:00</td>\n",
       "      <td>10260</td>\n",
       "      <td>10261</td>\n",
       "      <td>1</td>\n",
       "      <td>1</td>\n",
       "    </tr>\n",
       "    <tr>\n",
       "      <th>1</th>\n",
       "      <td>2008/2009</td>\n",
       "      <td>2008-08-16 00:00:00</td>\n",
       "      <td>9825</td>\n",
       "      <td>8659</td>\n",
       "      <td>1</td>\n",
       "      <td>0</td>\n",
       "    </tr>\n",
       "    <tr>\n",
       "      <th>2</th>\n",
       "      <td>2008/2009</td>\n",
       "      <td>2008-08-16 00:00:00</td>\n",
       "      <td>8472</td>\n",
       "      <td>8650</td>\n",
       "      <td>0</td>\n",
       "      <td>1</td>\n",
       "    </tr>\n",
       "    <tr>\n",
       "      <th>3</th>\n",
       "      <td>2008/2009</td>\n",
       "      <td>2008-08-16 00:00:00</td>\n",
       "      <td>8654</td>\n",
       "      <td>8528</td>\n",
       "      <td>2</td>\n",
       "      <td>1</td>\n",
       "    </tr>\n",
       "    <tr>\n",
       "      <th>4</th>\n",
       "      <td>2008/2009</td>\n",
       "      <td>2008-08-17 00:00:00</td>\n",
       "      <td>10252</td>\n",
       "      <td>8456</td>\n",
       "      <td>4</td>\n",
       "      <td>2</td>\n",
       "    </tr>\n",
       "  </tbody>\n",
       "</table>\n",
       "</div>"
      ],
      "text/plain": [
       "      season                 date  home_team_api_id  away_team_api_id  \\\n",
       "0  2008/2009  2008-08-17 00:00:00             10260             10261   \n",
       "1  2008/2009  2008-08-16 00:00:00              9825              8659   \n",
       "2  2008/2009  2008-08-16 00:00:00              8472              8650   \n",
       "3  2008/2009  2008-08-16 00:00:00              8654              8528   \n",
       "4  2008/2009  2008-08-17 00:00:00             10252              8456   \n",
       "\n",
       "   home_team_goal  away_team_goal  \n",
       "0               1               1  \n",
       "1               1               0  \n",
       "2               0               1  \n",
       "3               2               1  \n",
       "4               4               2  "
      ]
     },
     "execution_count": 4,
     "metadata": {},
     "output_type": "execute_result"
    }
   ],
   "source": [
    "matches.head()"
   ]
  },
  {
   "cell_type": "code",
   "execution_count": 5,
   "id": "66ac9342",
   "metadata": {},
   "outputs": [
    {
     "data": {
      "text/plain": [
       "(3040, 6)"
      ]
     },
     "execution_count": 5,
     "metadata": {},
     "output_type": "execute_result"
    }
   ],
   "source": [
    "matches.shape"
   ]
  },
  {
   "cell_type": "markdown",
   "id": "bb99a510",
   "metadata": {},
   "source": [
    "## Taking Care of Missing Data"
   ]
  },
  {
   "cell_type": "code",
   "execution_count": 6,
   "id": "a61216f3",
   "metadata": {},
   "outputs": [
    {
     "data": {
      "text/plain": [
       "season              0\n",
       "date                0\n",
       "home_team_api_id    0\n",
       "away_team_api_id    0\n",
       "home_team_goal      0\n",
       "away_team_goal      0\n",
       "dtype: int64"
      ]
     },
     "execution_count": 6,
     "metadata": {},
     "output_type": "execute_result"
    }
   ],
   "source": [
    "# There is no missing data\n",
    "matches.isnull().sum()"
   ]
  },
  {
   "cell_type": "markdown",
   "id": "36d5a8e5",
   "metadata": {},
   "source": [
    "## Statistical Summary "
   ]
  },
  {
   "cell_type": "code",
   "execution_count": 7,
   "id": "13494c74",
   "metadata": {},
   "outputs": [
    {
     "name": "stdout",
     "output_type": "stream",
     "text": [
      "Average of home team goal: 1.550986842105263\n",
      "Average of away team goal: 1.1595394736842106\n",
      "Maximum goals scored by the home team: 9\n",
      "Maximum goals scored by the away team: 6\n"
     ]
    }
   ],
   "source": [
    "print(\"Average of home team goal: {}\".format(matches[\"home_team_goal\"].mean()))\n",
    "print(\"Average of away team goal: {}\".format(matches[\"away_team_goal\"].mean()))\n",
    "print(\"Maximum goals scored by the home team: {}\".format(matches[\"home_team_goal\"].max()))\n",
    "print(\"Maximum goals scored by the away team: {}\".format(matches[\"away_team_goal\"].max()))"
   ]
  },
  {
   "cell_type": "markdown",
   "id": "43b371ad",
   "metadata": {},
   "source": [
    "## Data Preprocessing"
   ]
  },
  {
   "cell_type": "code",
   "execution_count": 8,
   "id": "e738357d",
   "metadata": {},
   "outputs": [],
   "source": [
    "def label_match(row):\n",
    "    if row[\"home_team_goal\"] > row[\"away_team_goal\"]:\n",
    "        return \"W\"\n",
    "    elif row[\"home_team_goal\"] < row[\"away_team_goal\"]:\n",
    "        return \"L\"\n",
    "    else:\n",
    "        return \"D\""
   ]
  },
  {
   "cell_type": "code",
   "execution_count": 9,
   "id": "7009a977",
   "metadata": {},
   "outputs": [],
   "source": [
    "matches['final_result'] = matches.apply (lambda row: label_match(row), axis=1)"
   ]
  },
  {
   "cell_type": "code",
   "execution_count": 10,
   "id": "3eff323d",
   "metadata": {},
   "outputs": [
    {
     "data": {
      "text/html": [
       "<div>\n",
       "<style scoped>\n",
       "    .dataframe tbody tr th:only-of-type {\n",
       "        vertical-align: middle;\n",
       "    }\n",
       "\n",
       "    .dataframe tbody tr th {\n",
       "        vertical-align: top;\n",
       "    }\n",
       "\n",
       "    .dataframe thead th {\n",
       "        text-align: right;\n",
       "    }\n",
       "</style>\n",
       "<table border=\"1\" class=\"dataframe\">\n",
       "  <thead>\n",
       "    <tr style=\"text-align: right;\">\n",
       "      <th></th>\n",
       "      <th>season</th>\n",
       "      <th>date</th>\n",
       "      <th>home_team_api_id</th>\n",
       "      <th>away_team_api_id</th>\n",
       "      <th>home_team_goal</th>\n",
       "      <th>away_team_goal</th>\n",
       "      <th>final_result</th>\n",
       "    </tr>\n",
       "  </thead>\n",
       "  <tbody>\n",
       "    <tr>\n",
       "      <th>0</th>\n",
       "      <td>2008/2009</td>\n",
       "      <td>2008-08-17 00:00:00</td>\n",
       "      <td>10260</td>\n",
       "      <td>10261</td>\n",
       "      <td>1</td>\n",
       "      <td>1</td>\n",
       "      <td>D</td>\n",
       "    </tr>\n",
       "    <tr>\n",
       "      <th>1</th>\n",
       "      <td>2008/2009</td>\n",
       "      <td>2008-08-16 00:00:00</td>\n",
       "      <td>9825</td>\n",
       "      <td>8659</td>\n",
       "      <td>1</td>\n",
       "      <td>0</td>\n",
       "      <td>W</td>\n",
       "    </tr>\n",
       "    <tr>\n",
       "      <th>2</th>\n",
       "      <td>2008/2009</td>\n",
       "      <td>2008-08-16 00:00:00</td>\n",
       "      <td>8472</td>\n",
       "      <td>8650</td>\n",
       "      <td>0</td>\n",
       "      <td>1</td>\n",
       "      <td>L</td>\n",
       "    </tr>\n",
       "    <tr>\n",
       "      <th>3</th>\n",
       "      <td>2008/2009</td>\n",
       "      <td>2008-08-16 00:00:00</td>\n",
       "      <td>8654</td>\n",
       "      <td>8528</td>\n",
       "      <td>2</td>\n",
       "      <td>1</td>\n",
       "      <td>W</td>\n",
       "    </tr>\n",
       "    <tr>\n",
       "      <th>4</th>\n",
       "      <td>2008/2009</td>\n",
       "      <td>2008-08-17 00:00:00</td>\n",
       "      <td>10252</td>\n",
       "      <td>8456</td>\n",
       "      <td>4</td>\n",
       "      <td>2</td>\n",
       "      <td>W</td>\n",
       "    </tr>\n",
       "    <tr>\n",
       "      <th>...</th>\n",
       "      <td>...</td>\n",
       "      <td>...</td>\n",
       "      <td>...</td>\n",
       "      <td>...</td>\n",
       "      <td>...</td>\n",
       "      <td>...</td>\n",
       "      <td>...</td>\n",
       "    </tr>\n",
       "    <tr>\n",
       "      <th>3035</th>\n",
       "      <td>2015/2016</td>\n",
       "      <td>2015-10-17 00:00:00</td>\n",
       "      <td>8466</td>\n",
       "      <td>8197</td>\n",
       "      <td>2</td>\n",
       "      <td>2</td>\n",
       "      <td>D</td>\n",
       "    </tr>\n",
       "    <tr>\n",
       "      <th>3036</th>\n",
       "      <td>2015/2016</td>\n",
       "      <td>2015-10-19 00:00:00</td>\n",
       "      <td>10003</td>\n",
       "      <td>10194</td>\n",
       "      <td>0</td>\n",
       "      <td>1</td>\n",
       "      <td>L</td>\n",
       "    </tr>\n",
       "    <tr>\n",
       "      <th>3037</th>\n",
       "      <td>2015/2016</td>\n",
       "      <td>2015-10-17 00:00:00</td>\n",
       "      <td>8586</td>\n",
       "      <td>8650</td>\n",
       "      <td>0</td>\n",
       "      <td>0</td>\n",
       "      <td>D</td>\n",
       "    </tr>\n",
       "    <tr>\n",
       "      <th>3038</th>\n",
       "      <td>2015/2016</td>\n",
       "      <td>2015-10-17 00:00:00</td>\n",
       "      <td>9817</td>\n",
       "      <td>9825</td>\n",
       "      <td>0</td>\n",
       "      <td>3</td>\n",
       "      <td>L</td>\n",
       "    </tr>\n",
       "    <tr>\n",
       "      <th>3039</th>\n",
       "      <td>2015/2016</td>\n",
       "      <td>2015-10-17 00:00:00</td>\n",
       "      <td>8659</td>\n",
       "      <td>8472</td>\n",
       "      <td>1</td>\n",
       "      <td>0</td>\n",
       "      <td>W</td>\n",
       "    </tr>\n",
       "  </tbody>\n",
       "</table>\n",
       "<p>3040 rows × 7 columns</p>\n",
       "</div>"
      ],
      "text/plain": [
       "         season                 date  home_team_api_id  away_team_api_id  \\\n",
       "0     2008/2009  2008-08-17 00:00:00             10260             10261   \n",
       "1     2008/2009  2008-08-16 00:00:00              9825              8659   \n",
       "2     2008/2009  2008-08-16 00:00:00              8472              8650   \n",
       "3     2008/2009  2008-08-16 00:00:00              8654              8528   \n",
       "4     2008/2009  2008-08-17 00:00:00             10252              8456   \n",
       "...         ...                  ...               ...               ...   \n",
       "3035  2015/2016  2015-10-17 00:00:00              8466              8197   \n",
       "3036  2015/2016  2015-10-19 00:00:00             10003             10194   \n",
       "3037  2015/2016  2015-10-17 00:00:00              8586              8650   \n",
       "3038  2015/2016  2015-10-17 00:00:00              9817              9825   \n",
       "3039  2015/2016  2015-10-17 00:00:00              8659              8472   \n",
       "\n",
       "      home_team_goal  away_team_goal final_result  \n",
       "0                  1               1            D  \n",
       "1                  1               0            W  \n",
       "2                  0               1            L  \n",
       "3                  2               1            W  \n",
       "4                  4               2            W  \n",
       "...              ...             ...          ...  \n",
       "3035               2               2            D  \n",
       "3036               0               1            L  \n",
       "3037               0               0            D  \n",
       "3038               0               3            L  \n",
       "3039               1               0            W  \n",
       "\n",
       "[3040 rows x 7 columns]"
      ]
     },
     "execution_count": 10,
     "metadata": {},
     "output_type": "execute_result"
    }
   ],
   "source": [
    "#Final result column added based on the score of the match.\n",
    "matches"
   ]
  },
  {
   "cell_type": "code",
   "execution_count": 11,
   "id": "63bb4695",
   "metadata": {},
   "outputs": [
    {
     "data": {
      "text/plain": [
       "10260    152\n",
       "8455     152\n",
       "9825     152\n",
       "8586     152\n",
       "8650     152\n",
       "10194    152\n",
       "8456     152\n",
       "8668     152\n",
       "10252    152\n",
       "8472     152\n",
       "10261    133\n",
       "8654     133\n",
       "8659     133\n",
       "9879     114\n",
       "8528      95\n",
       "10003     95\n",
       "8559      76\n",
       "8466      76\n",
       "8655      76\n",
       "8667      76\n",
       "9850      76\n",
       "10172     57\n",
       "9826      57\n",
       "8602      57\n",
       "8658      38\n",
       "8191      38\n",
       "8462      38\n",
       "8197      38\n",
       "8483      19\n",
       "9798      19\n",
       "8549      19\n",
       "8344      19\n",
       "8678      19\n",
       "9817      19\n",
       "Name: home_team_api_id, dtype: int64"
      ]
     },
     "execution_count": 11,
     "metadata": {},
     "output_type": "execute_result"
    }
   ],
   "source": [
    "#Some teams have played less match than others.\n",
    "matches[\"home_team_api_id\"].value_counts()"
   ]
  },
  {
   "cell_type": "code",
   "execution_count": 12,
   "id": "92dd8b8d",
   "metadata": {},
   "outputs": [],
   "source": [
    "# What is the win rate of home team?\n",
    "number_of_matches = matches.shape[0]\n",
    "number_of_home_wins = (matches.final_result == \"W\").sum()\n",
    "\n",
    "win_rate = (float(number_of_home_wins) / number_of_matches) * 100\n",
    "                          "
   ]
  },
  {
   "cell_type": "code",
   "execution_count": 13,
   "id": "a7590999",
   "metadata": {},
   "outputs": [
    {
     "name": "stdout",
     "output_type": "stream",
     "text": [
      "Total number of matches: 3040\n",
      "Number of matches won by home team: 1390\n",
      "Win rate: 45.723684210526315%\n"
     ]
    }
   ],
   "source": [
    "print(\"Total number of matches: {}\".format(number_of_matches))\n",
    "print(\"Number of matches won by home team: {}\".format(number_of_home_wins))\n",
    "print(\"Win rate: {}%\".format(win_rate))"
   ]
  },
  {
   "cell_type": "code",
   "execution_count": 14,
   "id": "ed9048d0",
   "metadata": {},
   "outputs": [
    {
     "data": {
      "text/plain": [
       "season              object\n",
       "date                object\n",
       "home_team_api_id     int64\n",
       "away_team_api_id     int64\n",
       "home_team_goal       int64\n",
       "away_team_goal       int64\n",
       "final_result        object\n",
       "dtype: object"
      ]
     },
     "execution_count": 14,
     "metadata": {},
     "output_type": "execute_result"
    }
   ],
   "source": [
    "# Type of fields should be integer or float. Therefore I changed the type of result from object to int\n",
    "matches.dtypes"
   ]
  },
  {
   "cell_type": "code",
   "execution_count": 15,
   "id": "912f675b",
   "metadata": {},
   "outputs": [],
   "source": [
    "del matches[\"season\"]"
   ]
  },
  {
   "cell_type": "code",
   "execution_count": 16,
   "id": "4c44fd8c",
   "metadata": {},
   "outputs": [
    {
     "data": {
      "text/html": [
       "<div>\n",
       "<style scoped>\n",
       "    .dataframe tbody tr th:only-of-type {\n",
       "        vertical-align: middle;\n",
       "    }\n",
       "\n",
       "    .dataframe tbody tr th {\n",
       "        vertical-align: top;\n",
       "    }\n",
       "\n",
       "    .dataframe thead th {\n",
       "        text-align: right;\n",
       "    }\n",
       "</style>\n",
       "<table border=\"1\" class=\"dataframe\">\n",
       "  <thead>\n",
       "    <tr style=\"text-align: right;\">\n",
       "      <th></th>\n",
       "      <th>date</th>\n",
       "      <th>home_team_api_id</th>\n",
       "      <th>away_team_api_id</th>\n",
       "      <th>home_team_goal</th>\n",
       "      <th>away_team_goal</th>\n",
       "      <th>final_result</th>\n",
       "    </tr>\n",
       "  </thead>\n",
       "  <tbody>\n",
       "    <tr>\n",
       "      <th>0</th>\n",
       "      <td>2008-08-17 00:00:00</td>\n",
       "      <td>10260</td>\n",
       "      <td>10261</td>\n",
       "      <td>1</td>\n",
       "      <td>1</td>\n",
       "      <td>D</td>\n",
       "    </tr>\n",
       "    <tr>\n",
       "      <th>1</th>\n",
       "      <td>2008-08-16 00:00:00</td>\n",
       "      <td>9825</td>\n",
       "      <td>8659</td>\n",
       "      <td>1</td>\n",
       "      <td>0</td>\n",
       "      <td>W</td>\n",
       "    </tr>\n",
       "    <tr>\n",
       "      <th>2</th>\n",
       "      <td>2008-08-16 00:00:00</td>\n",
       "      <td>8472</td>\n",
       "      <td>8650</td>\n",
       "      <td>0</td>\n",
       "      <td>1</td>\n",
       "      <td>L</td>\n",
       "    </tr>\n",
       "    <tr>\n",
       "      <th>3</th>\n",
       "      <td>2008-08-16 00:00:00</td>\n",
       "      <td>8654</td>\n",
       "      <td>8528</td>\n",
       "      <td>2</td>\n",
       "      <td>1</td>\n",
       "      <td>W</td>\n",
       "    </tr>\n",
       "    <tr>\n",
       "      <th>4</th>\n",
       "      <td>2008-08-17 00:00:00</td>\n",
       "      <td>10252</td>\n",
       "      <td>8456</td>\n",
       "      <td>4</td>\n",
       "      <td>2</td>\n",
       "      <td>W</td>\n",
       "    </tr>\n",
       "    <tr>\n",
       "      <th>...</th>\n",
       "      <td>...</td>\n",
       "      <td>...</td>\n",
       "      <td>...</td>\n",
       "      <td>...</td>\n",
       "      <td>...</td>\n",
       "      <td>...</td>\n",
       "    </tr>\n",
       "    <tr>\n",
       "      <th>3035</th>\n",
       "      <td>2015-10-17 00:00:00</td>\n",
       "      <td>8466</td>\n",
       "      <td>8197</td>\n",
       "      <td>2</td>\n",
       "      <td>2</td>\n",
       "      <td>D</td>\n",
       "    </tr>\n",
       "    <tr>\n",
       "      <th>3036</th>\n",
       "      <td>2015-10-19 00:00:00</td>\n",
       "      <td>10003</td>\n",
       "      <td>10194</td>\n",
       "      <td>0</td>\n",
       "      <td>1</td>\n",
       "      <td>L</td>\n",
       "    </tr>\n",
       "    <tr>\n",
       "      <th>3037</th>\n",
       "      <td>2015-10-17 00:00:00</td>\n",
       "      <td>8586</td>\n",
       "      <td>8650</td>\n",
       "      <td>0</td>\n",
       "      <td>0</td>\n",
       "      <td>D</td>\n",
       "    </tr>\n",
       "    <tr>\n",
       "      <th>3038</th>\n",
       "      <td>2015-10-17 00:00:00</td>\n",
       "      <td>9817</td>\n",
       "      <td>9825</td>\n",
       "      <td>0</td>\n",
       "      <td>3</td>\n",
       "      <td>L</td>\n",
       "    </tr>\n",
       "    <tr>\n",
       "      <th>3039</th>\n",
       "      <td>2015-10-17 00:00:00</td>\n",
       "      <td>8659</td>\n",
       "      <td>8472</td>\n",
       "      <td>1</td>\n",
       "      <td>0</td>\n",
       "      <td>W</td>\n",
       "    </tr>\n",
       "  </tbody>\n",
       "</table>\n",
       "<p>3040 rows × 6 columns</p>\n",
       "</div>"
      ],
      "text/plain": [
       "                     date  home_team_api_id  away_team_api_id  home_team_goal  \\\n",
       "0     2008-08-17 00:00:00             10260             10261               1   \n",
       "1     2008-08-16 00:00:00              9825              8659               1   \n",
       "2     2008-08-16 00:00:00              8472              8650               0   \n",
       "3     2008-08-16 00:00:00              8654              8528               2   \n",
       "4     2008-08-17 00:00:00             10252              8456               4   \n",
       "...                   ...               ...               ...             ...   \n",
       "3035  2015-10-17 00:00:00              8466              8197               2   \n",
       "3036  2015-10-19 00:00:00             10003             10194               0   \n",
       "3037  2015-10-17 00:00:00              8586              8650               0   \n",
       "3038  2015-10-17 00:00:00              9817              9825               0   \n",
       "3039  2015-10-17 00:00:00              8659              8472               1   \n",
       "\n",
       "      away_team_goal final_result  \n",
       "0                  1            D  \n",
       "1                  0            W  \n",
       "2                  1            L  \n",
       "3                  1            W  \n",
       "4                  2            W  \n",
       "...              ...          ...  \n",
       "3035               2            D  \n",
       "3036               1            L  \n",
       "3037               0            D  \n",
       "3038               3            L  \n",
       "3039               0            W  \n",
       "\n",
       "[3040 rows x 6 columns]"
      ]
     },
     "execution_count": 16,
     "metadata": {},
     "output_type": "execute_result"
    }
   ],
   "source": [
    "matches"
   ]
  },
  {
   "cell_type": "code",
   "execution_count": 17,
   "id": "32d8f5cb",
   "metadata": {},
   "outputs": [],
   "source": [
    "matches[\"target\"] = matches[\"final_result\"].astype(\"category\").cat.codes"
   ]
  },
  {
   "cell_type": "code",
   "execution_count": 18,
   "id": "a4ba4c3f",
   "metadata": {},
   "outputs": [
    {
     "data": {
      "text/html": [
       "<div>\n",
       "<style scoped>\n",
       "    .dataframe tbody tr th:only-of-type {\n",
       "        vertical-align: middle;\n",
       "    }\n",
       "\n",
       "    .dataframe tbody tr th {\n",
       "        vertical-align: top;\n",
       "    }\n",
       "\n",
       "    .dataframe thead th {\n",
       "        text-align: right;\n",
       "    }\n",
       "</style>\n",
       "<table border=\"1\" class=\"dataframe\">\n",
       "  <thead>\n",
       "    <tr style=\"text-align: right;\">\n",
       "      <th></th>\n",
       "      <th>date</th>\n",
       "      <th>home_team_api_id</th>\n",
       "      <th>away_team_api_id</th>\n",
       "      <th>home_team_goal</th>\n",
       "      <th>away_team_goal</th>\n",
       "      <th>final_result</th>\n",
       "      <th>target</th>\n",
       "    </tr>\n",
       "  </thead>\n",
       "  <tbody>\n",
       "    <tr>\n",
       "      <th>0</th>\n",
       "      <td>2008-08-17 00:00:00</td>\n",
       "      <td>10260</td>\n",
       "      <td>10261</td>\n",
       "      <td>1</td>\n",
       "      <td>1</td>\n",
       "      <td>D</td>\n",
       "      <td>0</td>\n",
       "    </tr>\n",
       "    <tr>\n",
       "      <th>1</th>\n",
       "      <td>2008-08-16 00:00:00</td>\n",
       "      <td>9825</td>\n",
       "      <td>8659</td>\n",
       "      <td>1</td>\n",
       "      <td>0</td>\n",
       "      <td>W</td>\n",
       "      <td>2</td>\n",
       "    </tr>\n",
       "    <tr>\n",
       "      <th>2</th>\n",
       "      <td>2008-08-16 00:00:00</td>\n",
       "      <td>8472</td>\n",
       "      <td>8650</td>\n",
       "      <td>0</td>\n",
       "      <td>1</td>\n",
       "      <td>L</td>\n",
       "      <td>1</td>\n",
       "    </tr>\n",
       "    <tr>\n",
       "      <th>3</th>\n",
       "      <td>2008-08-16 00:00:00</td>\n",
       "      <td>8654</td>\n",
       "      <td>8528</td>\n",
       "      <td>2</td>\n",
       "      <td>1</td>\n",
       "      <td>W</td>\n",
       "      <td>2</td>\n",
       "    </tr>\n",
       "    <tr>\n",
       "      <th>4</th>\n",
       "      <td>2008-08-17 00:00:00</td>\n",
       "      <td>10252</td>\n",
       "      <td>8456</td>\n",
       "      <td>4</td>\n",
       "      <td>2</td>\n",
       "      <td>W</td>\n",
       "      <td>2</td>\n",
       "    </tr>\n",
       "    <tr>\n",
       "      <th>...</th>\n",
       "      <td>...</td>\n",
       "      <td>...</td>\n",
       "      <td>...</td>\n",
       "      <td>...</td>\n",
       "      <td>...</td>\n",
       "      <td>...</td>\n",
       "      <td>...</td>\n",
       "    </tr>\n",
       "    <tr>\n",
       "      <th>3035</th>\n",
       "      <td>2015-10-17 00:00:00</td>\n",
       "      <td>8466</td>\n",
       "      <td>8197</td>\n",
       "      <td>2</td>\n",
       "      <td>2</td>\n",
       "      <td>D</td>\n",
       "      <td>0</td>\n",
       "    </tr>\n",
       "    <tr>\n",
       "      <th>3036</th>\n",
       "      <td>2015-10-19 00:00:00</td>\n",
       "      <td>10003</td>\n",
       "      <td>10194</td>\n",
       "      <td>0</td>\n",
       "      <td>1</td>\n",
       "      <td>L</td>\n",
       "      <td>1</td>\n",
       "    </tr>\n",
       "    <tr>\n",
       "      <th>3037</th>\n",
       "      <td>2015-10-17 00:00:00</td>\n",
       "      <td>8586</td>\n",
       "      <td>8650</td>\n",
       "      <td>0</td>\n",
       "      <td>0</td>\n",
       "      <td>D</td>\n",
       "      <td>0</td>\n",
       "    </tr>\n",
       "    <tr>\n",
       "      <th>3038</th>\n",
       "      <td>2015-10-17 00:00:00</td>\n",
       "      <td>9817</td>\n",
       "      <td>9825</td>\n",
       "      <td>0</td>\n",
       "      <td>3</td>\n",
       "      <td>L</td>\n",
       "      <td>1</td>\n",
       "    </tr>\n",
       "    <tr>\n",
       "      <th>3039</th>\n",
       "      <td>2015-10-17 00:00:00</td>\n",
       "      <td>8659</td>\n",
       "      <td>8472</td>\n",
       "      <td>1</td>\n",
       "      <td>0</td>\n",
       "      <td>W</td>\n",
       "      <td>2</td>\n",
       "    </tr>\n",
       "  </tbody>\n",
       "</table>\n",
       "<p>3040 rows × 7 columns</p>\n",
       "</div>"
      ],
      "text/plain": [
       "                     date  home_team_api_id  away_team_api_id  home_team_goal  \\\n",
       "0     2008-08-17 00:00:00             10260             10261               1   \n",
       "1     2008-08-16 00:00:00              9825              8659               1   \n",
       "2     2008-08-16 00:00:00              8472              8650               0   \n",
       "3     2008-08-16 00:00:00              8654              8528               2   \n",
       "4     2008-08-17 00:00:00             10252              8456               4   \n",
       "...                   ...               ...               ...             ...   \n",
       "3035  2015-10-17 00:00:00              8466              8197               2   \n",
       "3036  2015-10-19 00:00:00             10003             10194               0   \n",
       "3037  2015-10-17 00:00:00              8586              8650               0   \n",
       "3038  2015-10-17 00:00:00              9817              9825               0   \n",
       "3039  2015-10-17 00:00:00              8659              8472               1   \n",
       "\n",
       "      away_team_goal final_result  target  \n",
       "0                  1            D       0  \n",
       "1                  0            W       2  \n",
       "2                  1            L       1  \n",
       "3                  1            W       2  \n",
       "4                  2            W       2  \n",
       "...              ...          ...     ...  \n",
       "3035               2            D       0  \n",
       "3036               1            L       1  \n",
       "3037               0            D       0  \n",
       "3038               3            L       1  \n",
       "3039               0            W       2  \n",
       "\n",
       "[3040 rows x 7 columns]"
      ]
     },
     "execution_count": 18,
     "metadata": {},
     "output_type": "execute_result"
    }
   ],
   "source": [
    "matches"
   ]
  },
  {
   "cell_type": "code",
   "execution_count": 19,
   "id": "3d0f0a58",
   "metadata": {},
   "outputs": [
    {
     "data": {
      "text/html": [
       "<div>\n",
       "<style scoped>\n",
       "    .dataframe tbody tr th:only-of-type {\n",
       "        vertical-align: middle;\n",
       "    }\n",
       "\n",
       "    .dataframe tbody tr th {\n",
       "        vertical-align: top;\n",
       "    }\n",
       "\n",
       "    .dataframe thead th {\n",
       "        text-align: right;\n",
       "    }\n",
       "</style>\n",
       "<table border=\"1\" class=\"dataframe\">\n",
       "  <thead>\n",
       "    <tr style=\"text-align: right;\">\n",
       "      <th></th>\n",
       "      <th>date</th>\n",
       "      <th>home_team_api_id</th>\n",
       "      <th>away_team_api_id</th>\n",
       "      <th>home_team_goal</th>\n",
       "      <th>away_team_goal</th>\n",
       "      <th>final_result</th>\n",
       "      <th>target</th>\n",
       "    </tr>\n",
       "  </thead>\n",
       "  <tbody>\n",
       "    <tr>\n",
       "      <th>1</th>\n",
       "      <td>2008-08-16 00:00:00</td>\n",
       "      <td>9825</td>\n",
       "      <td>8659</td>\n",
       "      <td>1</td>\n",
       "      <td>0</td>\n",
       "      <td>W</td>\n",
       "      <td>2</td>\n",
       "    </tr>\n",
       "    <tr>\n",
       "      <th>11</th>\n",
       "      <td>2008-10-29 00:00:00</td>\n",
       "      <td>9825</td>\n",
       "      <td>8586</td>\n",
       "      <td>4</td>\n",
       "      <td>4</td>\n",
       "      <td>D</td>\n",
       "      <td>0</td>\n",
       "    </tr>\n",
       "    <tr>\n",
       "      <th>30</th>\n",
       "      <td>2008-11-08 00:00:00</td>\n",
       "      <td>9825</td>\n",
       "      <td>10260</td>\n",
       "      <td>2</td>\n",
       "      <td>1</td>\n",
       "      <td>W</td>\n",
       "      <td>2</td>\n",
       "    </tr>\n",
       "    <tr>\n",
       "      <th>41</th>\n",
       "      <td>2008-11-15 00:00:00</td>\n",
       "      <td>9825</td>\n",
       "      <td>10252</td>\n",
       "      <td>0</td>\n",
       "      <td>2</td>\n",
       "      <td>L</td>\n",
       "      <td>1</td>\n",
       "    </tr>\n",
       "    <tr>\n",
       "      <th>71</th>\n",
       "      <td>2008-12-06 00:00:00</td>\n",
       "      <td>9825</td>\n",
       "      <td>8528</td>\n",
       "      <td>1</td>\n",
       "      <td>0</td>\n",
       "      <td>W</td>\n",
       "      <td>2</td>\n",
       "    </tr>\n",
       "    <tr>\n",
       "      <th>...</th>\n",
       "      <td>...</td>\n",
       "      <td>...</td>\n",
       "      <td>...</td>\n",
       "      <td>...</td>\n",
       "      <td>...</td>\n",
       "      <td>...</td>\n",
       "      <td>...</td>\n",
       "    </tr>\n",
       "    <tr>\n",
       "      <th>2965</th>\n",
       "      <td>2016-05-08 00:00:00</td>\n",
       "      <td>8456</td>\n",
       "      <td>9825</td>\n",
       "      <td>2</td>\n",
       "      <td>2</td>\n",
       "      <td>D</td>\n",
       "      <td>0</td>\n",
       "    </tr>\n",
       "    <tr>\n",
       "      <th>2985</th>\n",
       "      <td>2015-08-29 00:00:00</td>\n",
       "      <td>10261</td>\n",
       "      <td>9825</td>\n",
       "      <td>0</td>\n",
       "      <td>1</td>\n",
       "      <td>L</td>\n",
       "      <td>1</td>\n",
       "    </tr>\n",
       "    <tr>\n",
       "      <th>3002</th>\n",
       "      <td>2015-09-19 00:00:00</td>\n",
       "      <td>8455</td>\n",
       "      <td>9825</td>\n",
       "      <td>2</td>\n",
       "      <td>0</td>\n",
       "      <td>W</td>\n",
       "      <td>2</td>\n",
       "    </tr>\n",
       "    <tr>\n",
       "      <th>3010</th>\n",
       "      <td>2015-09-26 00:00:00</td>\n",
       "      <td>8197</td>\n",
       "      <td>9825</td>\n",
       "      <td>2</td>\n",
       "      <td>5</td>\n",
       "      <td>L</td>\n",
       "      <td>1</td>\n",
       "    </tr>\n",
       "    <tr>\n",
       "      <th>3038</th>\n",
       "      <td>2015-10-17 00:00:00</td>\n",
       "      <td>9817</td>\n",
       "      <td>9825</td>\n",
       "      <td>0</td>\n",
       "      <td>3</td>\n",
       "      <td>L</td>\n",
       "      <td>1</td>\n",
       "    </tr>\n",
       "  </tbody>\n",
       "</table>\n",
       "<p>304 rows × 7 columns</p>\n",
       "</div>"
      ],
      "text/plain": [
       "                     date  home_team_api_id  away_team_api_id  home_team_goal  \\\n",
       "1     2008-08-16 00:00:00              9825              8659               1   \n",
       "11    2008-10-29 00:00:00              9825              8586               4   \n",
       "30    2008-11-08 00:00:00              9825             10260               2   \n",
       "41    2008-11-15 00:00:00              9825             10252               0   \n",
       "71    2008-12-06 00:00:00              9825              8528               1   \n",
       "...                   ...               ...               ...             ...   \n",
       "2965  2016-05-08 00:00:00              8456              9825               2   \n",
       "2985  2015-08-29 00:00:00             10261              9825               0   \n",
       "3002  2015-09-19 00:00:00              8455              9825               2   \n",
       "3010  2015-09-26 00:00:00              8197              9825               2   \n",
       "3038  2015-10-17 00:00:00              9817              9825               0   \n",
       "\n",
       "      away_team_goal final_result  target  \n",
       "1                  0            W       2  \n",
       "11                 4            D       0  \n",
       "30                 1            W       2  \n",
       "41                 2            L       1  \n",
       "71                 0            W       2  \n",
       "...              ...          ...     ...  \n",
       "2965               2            D       0  \n",
       "2985               1            L       1  \n",
       "3002               0            W       2  \n",
       "3010               5            L       1  \n",
       "3038               3            L       1  \n",
       "\n",
       "[304 rows x 7 columns]"
      ]
     },
     "execution_count": 19,
     "metadata": {},
     "output_type": "execute_result"
    }
   ],
   "source": [
    "# I choose Arsenal for training my models.\n",
    "home_matches = matches[matches[\"home_team_api_id\"] == 9825]\n",
    "away_matches = matches[matches[\"away_team_api_id\"] == 9825]\n",
    "arsenal_matches = pd.concat([home_matches, away_matches])\n",
    "arsenal_matches"
   ]
  },
  {
   "cell_type": "code",
   "execution_count": 20,
   "id": "1c7bdd78",
   "metadata": {},
   "outputs": [],
   "source": [
    "n_matches_arsenal = arsenal_matches.shape[0]\n",
    "n_wins = (arsenal_matches.final_result == \"W\").sum()\n",
    "win_rate_arsenal = (float(n_wins) / n_matches_arsenal) * 100"
   ]
  },
  {
   "cell_type": "code",
   "execution_count": 21,
   "id": "d5a4ec48",
   "metadata": {},
   "outputs": [
    {
     "name": "stdout",
     "output_type": "stream",
     "text": [
      "Total number of matches that Arsenal played: 304\n",
      "Number of matches won by Arsenal: 137\n",
      "Win rate: 45.06578947368421%\n"
     ]
    }
   ],
   "source": [
    "print(\"Total number of matches that Arsenal played: {}\".format(n_matches_arsenal))\n",
    "print(\"Number of matches won by Arsenal: {}\".format(n_wins))\n",
    "print(\"Win rate: {}%\".format(win_rate_arsenal))"
   ]
  },
  {
   "cell_type": "code",
   "execution_count": 22,
   "id": "2317d987",
   "metadata": {},
   "outputs": [
    {
     "name": "stdout",
     "output_type": "stream",
     "text": [
      "The home goal average of Arsenal scored: 1.6578947368421053\n",
      "The away goal average of Arsenal scored: 1.2796052631578947\n",
      "The maximum home goals scored by Arsenal: 8\n",
      "The maximum away goals scored by Arsenal: 6\n"
     ]
    }
   ],
   "source": [
    "print(\"The home goal average of Arsenal scored: {}\".format(arsenal_matches[\"home_team_goal\"].mean()))\n",
    "print(\"The away goal average of Arsenal scored: {}\".format(arsenal_matches[\"away_team_goal\"].mean()))\n",
    "print(\"The maximum home goals scored by Arsenal: {}\".format(arsenal_matches[\"home_team_goal\"].max()))\n",
    "print(\"The maximum away goals scored by Arsenal: {}\".format(arsenal_matches[\"away_team_goal\"].max()))"
   ]
  },
  {
   "cell_type": "code",
   "execution_count": 23,
   "id": "1e25264e",
   "metadata": {},
   "outputs": [],
   "source": [
    "train, test = train_test_split(arsenal_matches, test_size=0.2, random_state=25)"
   ]
  },
  {
   "cell_type": "code",
   "execution_count": 24,
   "id": "29e45834",
   "metadata": {},
   "outputs": [
    {
     "name": "stdout",
     "output_type": "stream",
     "text": [
      "Number of training examples: 243\n",
      "Number of testing examples: 61\n"
     ]
    }
   ],
   "source": [
    "print(f\"Number of training examples: {train.shape[0]}\")\n",
    "print(f\"Number of testing examples: {test.shape[0]}\")"
   ]
  },
  {
   "cell_type": "markdown",
   "id": "5de6d7e7",
   "metadata": {},
   "source": [
    "## Choosing The Models"
   ]
  },
  {
   "cell_type": "markdown",
   "id": "7f679992",
   "metadata": {},
   "source": [
    "## Random Forrest Classifier"
   ]
  },
  {
   "cell_type": "code",
   "execution_count": 25,
   "id": "ce95b2e0",
   "metadata": {},
   "outputs": [],
   "source": [
    "# I trained the all models based on Arsenal's past home and away mathes.\n",
    "predictors = [\"home_team_api_id\", \"away_team_api_id\"]"
   ]
  },
  {
   "cell_type": "code",
   "execution_count": 26,
   "id": "a867fa70",
   "metadata": {},
   "outputs": [],
   "source": [
    "rf = RandomForestClassifier(n_estimators=100, min_samples_split=10, random_state=1)\n",
    "rf.fit(train[predictors], train[\"target\"])\n",
    "rf_prediction = rf.predict(test[predictors])\n",
    "rf_acc = accuracy_score(test[\"target\"], rf_prediction)\n",
    "rf_score = precision_score(test[\"target\"], rf_prediction, average=\"micro\")"
   ]
  },
  {
   "cell_type": "markdown",
   "id": "2773c91e",
   "metadata": {},
   "source": [
    "## Gradient Boosting Classifier"
   ]
  },
  {
   "cell_type": "code",
   "execution_count": 27,
   "id": "cdda534d",
   "metadata": {},
   "outputs": [],
   "source": [
    "gb = GradientBoostingClassifier(n_estimators=100, learning_rate=1.0, max_depth=1, random_state=0)\n",
    "gb.fit(train[predictors], train[\"target\"])\n",
    "gb_prediction = gb.predict(test[predictors])\n",
    "gb_acc = accuracy_score(test[\"target\"], gb_prediction)\n",
    "gb_score = precision_score(test[\"target\"], gb_prediction, average=\"micro\")"
   ]
  },
  {
   "cell_type": "markdown",
   "id": "6aab6be5",
   "metadata": {},
   "source": [
    "## K-nearest Classifier"
   ]
  },
  {
   "cell_type": "code",
   "execution_count": 28,
   "id": "e032f010",
   "metadata": {},
   "outputs": [],
   "source": [
    "neigh = KNeighborsClassifier(n_neighbors=5)\n",
    "neigh.fit(train[predictors], train[\"target\"])\n",
    "neigh_prediction = neigh.predict(test[predictors])\n",
    "neigh_acc = accuracy_score(test[\"target\"], neigh_prediction)\n",
    "neigh_score = precision_score(test[\"target\"], neigh_prediction, average=\"micro\")"
   ]
  },
  {
   "cell_type": "markdown",
   "id": "07dbabfa",
   "metadata": {},
   "source": [
    "## Accuracy Results"
   ]
  },
  {
   "cell_type": "code",
   "execution_count": 29,
   "id": "da93994a",
   "metadata": {},
   "outputs": [
    {
     "name": "stdout",
     "output_type": "stream",
     "text": [
      "Random Forrest Classifier Accuracy Score: 52.459016393442624%\n",
      "Gradient Boosting Classifier Accuracy Score: 54.09836065573771%\n",
      "K-nearest Classifier Accuracy Score: 47.540983606557376%\n"
     ]
    }
   ],
   "source": [
    "print(\"Random Forrest Classifier Accuracy Score: {}%\".format(rf_acc*100))\n",
    "print(\"Gradient Boosting Classifier Accuracy Score: {}%\".format(gb_acc*100))\n",
    "print(\"K-nearest Classifier Accuracy Score: {}%\".format(neigh_acc*100))"
   ]
  },
  {
   "cell_type": "markdown",
   "id": "f1661420",
   "metadata": {},
   "source": [
    "## Precision Scores"
   ]
  },
  {
   "cell_type": "code",
   "execution_count": 30,
   "id": "d412ef3d",
   "metadata": {},
   "outputs": [
    {
     "name": "stdout",
     "output_type": "stream",
     "text": [
      "Random Forrest Classifier Precision score: 52.459016393442624%\n",
      "Gradient Boosting Classifier Precision score: 54.09836065573771%\n",
      "K-nearest Classifier Precision score: 47.540983606557376%\n"
     ]
    }
   ],
   "source": [
    "print(\"Random Forrest Classifier Precision score: {}%\".format(rf_score*100))\n",
    "print(\"Gradient Boosting Classifier Precision score: {}%\".format(gb_score*100))\n",
    "print(\"K-nearest Classifier Precision score: {}%\".format(neigh_score*100))"
   ]
  },
  {
   "cell_type": "markdown",
   "id": "90beccfc",
   "metadata": {},
   "source": [
    "## Confusion Matrixes"
   ]
  },
  {
   "cell_type": "code",
   "execution_count": 31,
   "id": "8e286ac3",
   "metadata": {},
   "outputs": [
    {
     "data": {
      "text/html": [
       "<div>\n",
       "<style scoped>\n",
       "    .dataframe tbody tr th:only-of-type {\n",
       "        vertical-align: middle;\n",
       "    }\n",
       "\n",
       "    .dataframe tbody tr th {\n",
       "        vertical-align: top;\n",
       "    }\n",
       "\n",
       "    .dataframe thead th {\n",
       "        text-align: right;\n",
       "    }\n",
       "</style>\n",
       "<table border=\"1\" class=\"dataframe\">\n",
       "  <thead>\n",
       "    <tr style=\"text-align: right;\">\n",
       "      <th>predicted</th>\n",
       "      <th>0</th>\n",
       "      <th>1</th>\n",
       "      <th>2</th>\n",
       "    </tr>\n",
       "    <tr>\n",
       "      <th>actual</th>\n",
       "      <th></th>\n",
       "      <th></th>\n",
       "      <th></th>\n",
       "    </tr>\n",
       "  </thead>\n",
       "  <tbody>\n",
       "    <tr>\n",
       "      <th>0</th>\n",
       "      <td>2</td>\n",
       "      <td>5</td>\n",
       "      <td>6</td>\n",
       "    </tr>\n",
       "    <tr>\n",
       "      <th>1</th>\n",
       "      <td>3</td>\n",
       "      <td>9</td>\n",
       "      <td>5</td>\n",
       "    </tr>\n",
       "    <tr>\n",
       "      <th>2</th>\n",
       "      <td>3</td>\n",
       "      <td>7</td>\n",
       "      <td>21</td>\n",
       "    </tr>\n",
       "  </tbody>\n",
       "</table>\n",
       "</div>"
      ],
      "text/plain": [
       "predicted  0  1   2\n",
       "actual             \n",
       "0          2  5   6\n",
       "1          3  9   5\n",
       "2          3  7  21"
      ]
     },
     "execution_count": 31,
     "metadata": {},
     "output_type": "execute_result"
    }
   ],
   "source": [
    "combined = pd.DataFrame(dict(actual=test[\"target\"], predicted=rf_prediction))\n",
    "pd.crosstab(index=combined[\"actual\"], columns=combined[\"predicted\"])"
   ]
  },
  {
   "cell_type": "code",
   "execution_count": 32,
   "id": "2b838f97",
   "metadata": {},
   "outputs": [
    {
     "data": {
      "text/html": [
       "<div>\n",
       "<style scoped>\n",
       "    .dataframe tbody tr th:only-of-type {\n",
       "        vertical-align: middle;\n",
       "    }\n",
       "\n",
       "    .dataframe tbody tr th {\n",
       "        vertical-align: top;\n",
       "    }\n",
       "\n",
       "    .dataframe thead th {\n",
       "        text-align: right;\n",
       "    }\n",
       "</style>\n",
       "<table border=\"1\" class=\"dataframe\">\n",
       "  <thead>\n",
       "    <tr style=\"text-align: right;\">\n",
       "      <th>predicted</th>\n",
       "      <th>0</th>\n",
       "      <th>1</th>\n",
       "      <th>2</th>\n",
       "    </tr>\n",
       "    <tr>\n",
       "      <th>actual</th>\n",
       "      <th></th>\n",
       "      <th></th>\n",
       "      <th></th>\n",
       "    </tr>\n",
       "  </thead>\n",
       "  <tbody>\n",
       "    <tr>\n",
       "      <th>0</th>\n",
       "      <td>1</td>\n",
       "      <td>7</td>\n",
       "      <td>5</td>\n",
       "    </tr>\n",
       "    <tr>\n",
       "      <th>1</th>\n",
       "      <td>1</td>\n",
       "      <td>11</td>\n",
       "      <td>5</td>\n",
       "    </tr>\n",
       "    <tr>\n",
       "      <th>2</th>\n",
       "      <td>3</td>\n",
       "      <td>7</td>\n",
       "      <td>21</td>\n",
       "    </tr>\n",
       "  </tbody>\n",
       "</table>\n",
       "</div>"
      ],
      "text/plain": [
       "predicted  0   1   2\n",
       "actual              \n",
       "0          1   7   5\n",
       "1          1  11   5\n",
       "2          3   7  21"
      ]
     },
     "execution_count": 32,
     "metadata": {},
     "output_type": "execute_result"
    }
   ],
   "source": [
    "combined = pd.DataFrame(dict(actual=test[\"target\"], predicted=gb_prediction))\n",
    "pd.crosstab(index=combined[\"actual\"], columns=combined[\"predicted\"])"
   ]
  },
  {
   "cell_type": "code",
   "execution_count": 33,
   "id": "53070c8e",
   "metadata": {},
   "outputs": [
    {
     "data": {
      "text/html": [
       "<div>\n",
       "<style scoped>\n",
       "    .dataframe tbody tr th:only-of-type {\n",
       "        vertical-align: middle;\n",
       "    }\n",
       "\n",
       "    .dataframe tbody tr th {\n",
       "        vertical-align: top;\n",
       "    }\n",
       "\n",
       "    .dataframe thead th {\n",
       "        text-align: right;\n",
       "    }\n",
       "</style>\n",
       "<table border=\"1\" class=\"dataframe\">\n",
       "  <thead>\n",
       "    <tr style=\"text-align: right;\">\n",
       "      <th>predicted</th>\n",
       "      <th>0</th>\n",
       "      <th>1</th>\n",
       "      <th>2</th>\n",
       "    </tr>\n",
       "    <tr>\n",
       "      <th>actual</th>\n",
       "      <th></th>\n",
       "      <th></th>\n",
       "      <th></th>\n",
       "    </tr>\n",
       "  </thead>\n",
       "  <tbody>\n",
       "    <tr>\n",
       "      <th>0</th>\n",
       "      <td>3</td>\n",
       "      <td>7</td>\n",
       "      <td>3</td>\n",
       "    </tr>\n",
       "    <tr>\n",
       "      <th>1</th>\n",
       "      <td>6</td>\n",
       "      <td>8</td>\n",
       "      <td>3</td>\n",
       "    </tr>\n",
       "    <tr>\n",
       "      <th>2</th>\n",
       "      <td>6</td>\n",
       "      <td>7</td>\n",
       "      <td>18</td>\n",
       "    </tr>\n",
       "  </tbody>\n",
       "</table>\n",
       "</div>"
      ],
      "text/plain": [
       "predicted  0  1   2\n",
       "actual             \n",
       "0          3  7   3\n",
       "1          6  8   3\n",
       "2          6  7  18"
      ]
     },
     "execution_count": 33,
     "metadata": {},
     "output_type": "execute_result"
    }
   ],
   "source": [
    "combined = pd.DataFrame(dict(actual=test[\"target\"], predicted=neigh_prediction))\n",
    "pd.crosstab(index=combined[\"actual\"], columns=combined[\"predicted\"])"
   ]
  }
 ],
 "metadata": {
  "kernelspec": {
   "display_name": "Python 3 (ipykernel)",
   "language": "python",
   "name": "python3"
  },
  "language_info": {
   "codemirror_mode": {
    "name": "ipython",
    "version": 3
   },
   "file_extension": ".py",
   "mimetype": "text/x-python",
   "name": "python",
   "nbconvert_exporter": "python",
   "pygments_lexer": "ipython3",
   "version": "3.9.7"
  }
 },
 "nbformat": 4,
 "nbformat_minor": 5
}
